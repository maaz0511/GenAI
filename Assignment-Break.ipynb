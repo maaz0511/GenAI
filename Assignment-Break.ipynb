{
 "cells": [
  {
   "cell_type": "markdown",
   "id": "f1886ac3",
   "metadata": {},
   "source": [
    "# Write a program to print numbers from 1 to 10,but stop if the number is 5.\n"
   ]
  },
  {
   "cell_type": "code",
   "execution_count": 1,
   "id": "c4da21eb",
   "metadata": {
    "ExecuteTime": {
     "end_time": "2024-03-04T18:56:53.671379Z",
     "start_time": "2024-03-04T18:56:53.665007Z"
    }
   },
   "outputs": [
    {
     "name": "stdout",
     "output_type": "stream",
     "text": [
      "1\n",
      "2\n",
      "3\n",
      "4\n"
     ]
    }
   ],
   "source": [
    "# using for loop\n",
    "\n",
    "for i in range(1,11):\n",
    "    if i == 5:\n",
    "        break\n",
    "    print(i)"
   ]
  },
  {
   "cell_type": "code",
   "execution_count": 3,
   "id": "a9901fcb",
   "metadata": {
    "ExecuteTime": {
     "end_time": "2024-03-04T18:57:44.569037Z",
     "start_time": "2024-03-04T18:57:44.560917Z"
    }
   },
   "outputs": [
    {
     "name": "stdout",
     "output_type": "stream",
     "text": [
      "1\n",
      "2\n",
      "3\n",
      "4\n"
     ]
    }
   ],
   "source": [
    "# using while loop\n",
    "\n",
    "i = 1\n",
    "while i <= 10:\n",
    "    if i == 5:\n",
    "        break\n",
    "    print(i)\n",
    "    i += 1"
   ]
  },
  {
   "cell_type": "markdown",
   "id": "9cc50979",
   "metadata": {},
   "source": [
    "# Write a program to iterate through a list and stop when encountering a specific element.\n"
   ]
  },
  {
   "cell_type": "code",
   "execution_count": 6,
   "id": "64b8fd6a",
   "metadata": {
    "ExecuteTime": {
     "end_time": "2024-03-04T18:59:41.758068Z",
     "start_time": "2024-03-04T18:59:41.751306Z"
    }
   },
   "outputs": [
    {
     "name": "stdout",
     "output_type": "stream",
     "text": [
      "Python\n",
      "Stats\n"
     ]
    }
   ],
   "source": [
    "DS_list = [\"Python\", \"Stats\", \"ML\", \"DL\", \"NLP\", \"GENAI\"]\n",
    "\n",
    "for i in DS_list:\n",
    "    if i == \"ML\":\n",
    "        break\n",
    "    print(i)"
   ]
  },
  {
   "cell_type": "markdown",
   "id": "ad2924fd",
   "metadata": {},
   "source": [
    "# Write a program to skip printing even numbers from 1 to 10.\n"
   ]
  },
  {
   "cell_type": "code",
   "execution_count": 7,
   "id": "e0c53636",
   "metadata": {
    "ExecuteTime": {
     "end_time": "2024-03-04T19:00:50.453330Z",
     "start_time": "2024-03-04T19:00:50.448143Z"
    }
   },
   "outputs": [
    {
     "name": "stdout",
     "output_type": "stream",
     "text": [
      "1\n",
      "3\n",
      "5\n",
      "7\n",
      "9\n"
     ]
    }
   ],
   "source": [
    "# Way 1\n",
    "\n",
    "for i in range(1,11):\n",
    "    if i%2 == 0:\n",
    "        continue\n",
    "    else:\n",
    "        print(i)"
   ]
  },
  {
   "cell_type": "code",
   "execution_count": 8,
   "id": "13848e57",
   "metadata": {
    "ExecuteTime": {
     "end_time": "2024-03-04T19:01:19.862919Z",
     "start_time": "2024-03-04T19:01:19.855638Z"
    }
   },
   "outputs": [
    {
     "name": "stdout",
     "output_type": "stream",
     "text": [
      "1\n",
      "3\n",
      "5\n",
      "7\n",
      "9\n"
     ]
    }
   ],
   "source": [
    "# Way 2\n",
    "\n",
    "for i in range(1,11,2):\n",
    "    print(i)\n",
    "    \n",
    "'''\n",
    "In this way we start from 1 and increment by 2 everytime.\n",
    "so 1 + 2 = 3 which is odd number.\n",
    "3 + 2 = 5 again odd number and so on.\n",
    "'''"
   ]
  },
  {
   "cell_type": "markdown",
   "id": "60639184",
   "metadata": {},
   "source": [
    "# Write a program to print numbers from 0 to 9 using range().\n"
   ]
  },
  {
   "cell_type": "code",
   "execution_count": 10,
   "id": "134d8826",
   "metadata": {
    "ExecuteTime": {
     "end_time": "2024-03-04T19:04:14.932096Z",
     "start_time": "2024-03-04T19:04:14.927168Z"
    }
   },
   "outputs": [
    {
     "name": "stdout",
     "output_type": "stream",
     "text": [
      "0\n",
      "1\n",
      "2\n",
      "3\n",
      "4\n",
      "5\n",
      "6\n",
      "7\n",
      "8\n",
      "9\n"
     ]
    }
   ],
   "source": [
    "for i in range(10):   # in range function bydefault start = 0 and step = 1\n",
    "    print(i)\n",
    "    \n"
   ]
  },
  {
   "cell_type": "markdown",
   "id": "795a7eb5",
   "metadata": {},
   "source": [
    "# Write a program to print multiplication tables from 1 to 5, but stop after the first table is printed for each number.\n"
   ]
  },
  {
   "cell_type": "code",
   "execution_count": 10,
   "id": "5d6deefd",
   "metadata": {
    "ExecuteTime": {
     "end_time": "2024-03-04T19:15:33.826578Z",
     "start_time": "2024-03-04T19:15:28.978527Z"
    }
   },
   "outputs": [
    {
     "name": "stdout",
     "output_type": "stream",
     "text": [
      "1  x  1  =  1\n",
      "1  x  2  =  2\n",
      "1  x  3  =  3\n",
      "1  x  4  =  4\n",
      "1  x  5  =  5\n",
      "1  x  6  =  6\n",
      "1  x  7  =  7\n",
      "1  x  8  =  8\n",
      "1  x  9  =  9\n",
      "1  x  10  =  10\n",
      "\n",
      "Press ENTER to continue \n",
      "\n",
      "2  x  1  =  2\n",
      "2  x  2  =  4\n",
      "2  x  3  =  6\n",
      "2  x  4  =  8\n",
      "2  x  5  =  10\n",
      "2  x  6  =  12\n",
      "2  x  7  =  14\n",
      "2  x  8  =  16\n",
      "2  x  9  =  18\n",
      "2  x  10  =  20\n",
      "\n",
      "Press ENTER to continue \n",
      "\n",
      "3  x  1  =  3\n",
      "3  x  2  =  6\n",
      "3  x  3  =  9\n",
      "3  x  4  =  12\n",
      "3  x  5  =  15\n",
      "3  x  6  =  18\n",
      "3  x  7  =  21\n",
      "3  x  8  =  24\n",
      "3  x  9  =  27\n",
      "3  x  10  =  30\n",
      "\n",
      "Press ENTER to continue \n",
      "\n",
      "4  x  1  =  4\n",
      "4  x  2  =  8\n",
      "4  x  3  =  12\n",
      "4  x  4  =  16\n",
      "4  x  5  =  20\n",
      "4  x  6  =  24\n",
      "4  x  7  =  28\n",
      "4  x  8  =  32\n",
      "4  x  9  =  36\n",
      "4  x  10  =  40\n",
      "\n",
      "Press ENTER to continue \n",
      "\n",
      "5  x  1  =  5\n",
      "5  x  2  =  10\n",
      "5  x  3  =  15\n",
      "5  x  4  =  20\n",
      "5  x  5  =  25\n",
      "5  x  6  =  30\n",
      "5  x  7  =  35\n",
      "5  x  8  =  40\n",
      "5  x  9  =  45\n",
      "5  x  10  =  50\n",
      "\n"
     ]
    }
   ],
   "source": [
    "for i in range(1,6):\n",
    "    \n",
    "    for j in range(1,11):\n",
    "        print(i,\" x \",j,\" = \",i*j)\n",
    "        \n",
    "    print()\n",
    "    \n",
    "    if i < 5:\n",
    "        input(\"Press ENTER to continue \\n\")\n"
   ]
  },
  {
   "cell_type": "markdown",
   "id": "8cda0b2f",
   "metadata": {},
   "source": [
    "# Write a program to skip printing even numbers using a while loop."
   ]
  },
  {
   "cell_type": "code",
   "execution_count": 7,
   "id": "7f2aaae9",
   "metadata": {
    "ExecuteTime": {
     "end_time": "2024-03-04T19:13:30.948702Z",
     "start_time": "2024-03-04T19:13:29.517703Z"
    }
   },
   "outputs": [
    {
     "name": "stdout",
     "output_type": "stream",
     "text": [
      "Enter any number from where you want to skip even numbers\n",
      "5\n",
      "\n",
      "Numbers are:\n",
      "1\n",
      "3\n",
      "5\n"
     ]
    }
   ],
   "source": [
    "print(\"Enter any number from where you want to skip even numbers\")\n",
    "num = int(input())\n",
    "\n",
    "print(\"\\nNumbers are:\")\n",
    "i = 1\n",
    "while i <= num:\n",
    "    if i%2 != 0:\n",
    "        print(i)\n",
    "    i += 1"
   ]
  },
  {
   "cell_type": "code",
   "execution_count": null,
   "id": "aa77dcbc",
   "metadata": {},
   "outputs": [],
   "source": []
  }
 ],
 "metadata": {
  "kernelspec": {
   "display_name": "Python 3 (ipykernel)",
   "language": "python",
   "name": "python3"
  },
  "language_info": {
   "codemirror_mode": {
    "name": "ipython",
    "version": 3
   },
   "file_extension": ".py",
   "mimetype": "text/x-python",
   "name": "python",
   "nbconvert_exporter": "python",
   "pygments_lexer": "ipython3",
   "version": "3.11.5"
  },
  "toc": {
   "base_numbering": 1,
   "nav_menu": {},
   "number_sections": true,
   "sideBar": true,
   "skip_h1_title": false,
   "title_cell": "Table of Contents",
   "title_sidebar": "Contents",
   "toc_cell": false,
   "toc_position": {},
   "toc_section_display": true,
   "toc_window_display": false
  },
  "varInspector": {
   "cols": {
    "lenName": 16,
    "lenType": 16,
    "lenVar": 40
   },
   "kernels_config": {
    "python": {
     "delete_cmd_postfix": "",
     "delete_cmd_prefix": "del ",
     "library": "var_list.py",
     "varRefreshCmd": "print(var_dic_list())"
    },
    "r": {
     "delete_cmd_postfix": ") ",
     "delete_cmd_prefix": "rm(",
     "library": "var_list.r",
     "varRefreshCmd": "cat(var_dic_list()) "
    }
   },
   "types_to_exclude": [
    "module",
    "function",
    "builtin_function_or_method",
    "instance",
    "_Feature"
   ],
   "window_display": false
  }
 },
 "nbformat": 4,
 "nbformat_minor": 5
}
