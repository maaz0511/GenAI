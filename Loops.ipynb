{
 "cells": [
  {
   "cell_type": "markdown",
   "id": "00fa26c1",
   "metadata": {},
   "source": [
    "# Print number from 1 to 5 uing a while loop."
   ]
  },
  {
   "cell_type": "code",
   "execution_count": 5,
   "id": "53acc9f6",
   "metadata": {
    "ExecuteTime": {
     "end_time": "2024-03-04T18:37:12.042039Z",
     "start_time": "2024-03-04T18:37:12.036160Z"
    }
   },
   "outputs": [
    {
     "name": "stdout",
     "output_type": "stream",
     "text": [
      "1\n",
      "2\n",
      "3\n",
      "4\n",
      "5\n"
     ]
    }
   ],
   "source": [
    "# Way 1 - using 2 variables\n",
    "\n",
    "i = 1\n",
    "n = 5\n",
    "\n",
    "while i <= n:\n",
    "    print(i)\n",
    "    i += 1"
   ]
  },
  {
   "cell_type": "code",
   "execution_count": 6,
   "id": "22843f06",
   "metadata": {
    "ExecuteTime": {
     "end_time": "2024-03-04T18:37:13.465700Z",
     "start_time": "2024-03-04T18:37:13.460788Z"
    }
   },
   "outputs": [
    {
     "name": "stdout",
     "output_type": "stream",
     "text": [
      "1\n",
      "2\n",
      "3\n",
      "4\n",
      "5\n"
     ]
    }
   ],
   "source": [
    "# Way 2 - using 1 variable\n",
    "\n",
    "i = 1\n",
    "while i <= 5: \n",
    "    print(i)\n",
    "    i += 1"
   ]
  },
  {
   "cell_type": "code",
   "execution_count": 7,
   "id": "834f83a7",
   "metadata": {
    "ExecuteTime": {
     "end_time": "2024-03-04T18:37:14.474317Z",
     "start_time": "2024-03-04T18:37:14.469516Z"
    }
   },
   "outputs": [
    {
     "name": "stdout",
     "output_type": "stream",
     "text": [
      "1\n",
      "2\n",
      "3\n",
      "4\n",
      "5\n"
     ]
    }
   ],
   "source": [
    "# Way 3 - using range\n",
    "\n",
    "i = 1\n",
    "while i in range(6):\n",
    "    print(i)\n",
    "    i += 1"
   ]
  },
  {
   "cell_type": "markdown",
   "id": "ba8299ed",
   "metadata": {},
   "source": [
    "# Calculate the sum of number from 1 to 10 uing a while loop."
   ]
  },
  {
   "cell_type": "code",
   "execution_count": 8,
   "id": "beee5d04",
   "metadata": {
    "ExecuteTime": {
     "end_time": "2024-03-04T18:37:17.960771Z",
     "start_time": "2024-03-04T18:37:17.953267Z"
    }
   },
   "outputs": [
    {
     "name": "stdout",
     "output_type": "stream",
     "text": [
      "Sum of numbers from 1 to 10 :  55\n"
     ]
    }
   ],
   "source": [
    "sum = 0 #variable where sum of 1 to 10 is stored.\n",
    "\n",
    "i = 1\n",
    "while i <= 10:\n",
    "    sum = sum + i\n",
    "    i += 1\n",
    "\n",
    "print(\"Sum of numbers from 1 to 10 : \", sum)"
   ]
  },
  {
   "cell_type": "markdown",
   "id": "e4c92690",
   "metadata": {},
   "source": [
    "# Calculate the factorial of a number uing a for loop."
   ]
  },
  {
   "cell_type": "code",
   "execution_count": 9,
   "id": "b07eb058",
   "metadata": {
    "ExecuteTime": {
     "end_time": "2024-03-04T18:37:34.740562Z",
     "start_time": "2024-03-04T18:37:24.980701Z"
    }
   },
   "outputs": [
    {
     "name": "stdout",
     "output_type": "stream",
     "text": [
      "Enter any number\n",
      "6\n",
      "Factorial : 720\n"
     ]
    }
   ],
   "source": [
    "print(\"Enter any number\")\n",
    "num = int(input())\n",
    "\n",
    "fact = 1\n",
    "\n",
    "for i in range(1, num+1):\n",
    "    fact = fact * i\n",
    "    \n",
    "print(\"Factorial :\", fact)"
   ]
  },
  {
   "cell_type": "markdown",
   "id": "b681fbd0",
   "metadata": {},
   "source": [
    "# Count the number of vowel in a string uing a for loop."
   ]
  },
  {
   "cell_type": "code",
   "execution_count": 10,
   "id": "9b99daa8",
   "metadata": {
    "ExecuteTime": {
     "end_time": "2024-03-04T18:37:49.175813Z",
     "start_time": "2024-03-04T18:37:39.045178Z"
    }
   },
   "outputs": [
    {
     "name": "stdout",
     "output_type": "stream",
     "text": [
      "Please enter any string\n",
      "PWSKILLS\n",
      "Number of Vowels:  1\n"
     ]
    }
   ],
   "source": [
    "# Way 1 - using if else condition\n",
    "\n",
    "print(\"Please enter any string\")\n",
    "string = input()\n",
    "\n",
    "count = 0\n",
    "\n",
    "i = 1\n",
    "for i in string:\n",
    "    \n",
    "    if (i == 'a' or i == 'i' or  i == 'e' or i == 'o' or i == 'u'):\n",
    "        count = count + 1\n",
    "        \n",
    "    elif (i == 'A' or i == 'I' or  i == 'E' or i == 'O' or i == 'U'):\n",
    "        count = count + 1\n",
    "    \n",
    "    else:\n",
    "        continue\n",
    "    \n",
    "print(\"Number of Vowels: \", count)"
   ]
  },
  {
   "cell_type": "code",
   "execution_count": 11,
   "id": "adc6c859",
   "metadata": {
    "ExecuteTime": {
     "end_time": "2024-03-04T18:38:11.768062Z",
     "start_time": "2024-03-04T18:37:50.644206Z"
    }
   },
   "outputs": [
    {
     "name": "stdout",
     "output_type": "stream",
     "text": [
      "Please enter any string\n",
      "DATA SCIENCE GENAI\n",
      "Number of Vowels:  8\n"
     ]
    }
   ],
   "source": [
    "# Way 2 - using List\n",
    "\n",
    "print(\"Please enter any string\")\n",
    "string = input()\n",
    "\n",
    "vowels = ['a', 'e','i','o','u','A', 'E','I','O','U']\n",
    "count = 0\n",
    "\n",
    "alphabet = 1\n",
    "\n",
    "for alphabet in string:\n",
    "    \n",
    "    if alphabet in vowels:\n",
    "        count += 1\n",
    "    else:\n",
    "        continue\n",
    "\n",
    "print(\"Number of Vowels: \", count)"
   ]
  },
  {
   "cell_type": "markdown",
   "id": "1886a5b6",
   "metadata": {},
   "source": [
    "# Print a pattern uing nested loop."
   ]
  },
  {
   "cell_type": "code",
   "execution_count": 12,
   "id": "eb9790d7",
   "metadata": {
    "ExecuteTime": {
     "end_time": "2024-03-04T18:38:13.674688Z",
     "start_time": "2024-03-04T18:38:13.668609Z"
    }
   },
   "outputs": [
    {
     "name": "stdout",
     "output_type": "stream",
     "text": [
      "1\n",
      "12\n",
      "123\n",
      "1234\n",
      "12345\n"
     ]
    }
   ],
   "source": [
    "# Pattern 1\n",
    "\n",
    "row = 1\n",
    "\n",
    "while row <= 5:\n",
    "    col = 1\n",
    "    \n",
    "    while col <= row:\n",
    "        print(col, end=\"\")\n",
    "        col += 1\n",
    "    \n",
    "    print()\n",
    "    row += 1\n",
    "    \n",
    "\n"
   ]
  },
  {
   "cell_type": "code",
   "execution_count": 13,
   "id": "2198e826",
   "metadata": {
    "ExecuteTime": {
     "end_time": "2024-03-04T18:38:14.070814Z",
     "start_time": "2024-03-04T18:38:14.066225Z"
    }
   },
   "outputs": [
    {
     "name": "stdout",
     "output_type": "stream",
     "text": [
      "*\n",
      "**\n",
      "***\n",
      "****\n",
      "*****\n"
     ]
    }
   ],
   "source": [
    "# Pattern 2\n",
    "\n",
    "row = 1\n",
    "\n",
    "while row <= 5:\n",
    "    col = 1\n",
    "    \n",
    "    while col <= row:\n",
    "        print(\"*\", end=\"\")\n",
    "        col += 1\n",
    "    \n",
    "    print()\n",
    "    row += 1\n",
    "    "
   ]
  },
  {
   "cell_type": "code",
   "execution_count": 14,
   "id": "e1dce66d",
   "metadata": {
    "ExecuteTime": {
     "end_time": "2024-03-04T18:38:14.572960Z",
     "start_time": "2024-03-04T18:38:14.565893Z"
    }
   },
   "outputs": [
    {
     "name": "stdout",
     "output_type": "stream",
     "text": [
      "\n",
      "\n",
      "*****\n",
      "****\n",
      "***\n",
      "**\n",
      "*\n"
     ]
    }
   ],
   "source": [
    "# Pattern 3\n",
    "    \n",
    "print(\"\\n\")\n",
    "row = 1\n",
    "\n",
    "while row <= 5:\n",
    "    col = 5\n",
    "    \n",
    "    while col >= row:\n",
    "        print(\"*\", end=\"\")\n",
    "        col -= 1\n",
    "    \n",
    "    print()\n",
    "    row += 1\n"
   ]
  },
  {
   "cell_type": "markdown",
   "id": "0dd3db34",
   "metadata": {},
   "source": [
    "# Generate a multiplication table using nested loop.\n",
    "\n"
   ]
  },
  {
   "cell_type": "code",
   "execution_count": 16,
   "id": "b5befa47",
   "metadata": {
    "ExecuteTime": {
     "end_time": "2024-03-04T18:38:24.563530Z",
     "start_time": "2024-03-04T18:38:21.139141Z"
    }
   },
   "outputs": [
    {
     "name": "stdout",
     "output_type": "stream",
     "text": [
      "Enter any number whose multiplication table you want\n",
      "5\n",
      "5  x  1  =  5\n",
      "5  x  2  =  10\n",
      "5  x  3  =  15\n",
      "5  x  4  =  20\n",
      "5  x  5  =  25\n",
      "5  x  6  =  30\n",
      "5  x  7  =  35\n",
      "5  x  8  =  40\n",
      "5  x  9  =  45\n",
      "5  x  10  =  50\n"
     ]
    }
   ],
   "source": [
    "print(\"Enter any number whose multiplication table you want\")\n",
    "num = int(input())\n",
    "\n",
    "for i in range(1,11):\n",
    "    print(num,\" x \",i,\" = \",i*num)"
   ]
  },
  {
   "cell_type": "code",
   "execution_count": 17,
   "id": "760c364b",
   "metadata": {
    "ExecuteTime": {
     "end_time": "2024-03-04T18:38:25.977632Z",
     "start_time": "2024-03-04T18:38:25.971271Z"
    }
   },
   "outputs": [
    {
     "name": "stdout",
     "output_type": "stream",
     "text": [
      "1\t2\t3\t4\t5\t6\t7\t8\t9\t10\t\n",
      "\n",
      "2\t4\t6\t8\t10\t12\t14\t16\t18\t20\t\n",
      "\n",
      "3\t6\t9\t12\t15\t18\t21\t24\t27\t30\t\n",
      "\n",
      "4\t8\t12\t16\t20\t24\t28\t32\t36\t40\t\n",
      "\n",
      "5\t10\t15\t20\t25\t30\t35\t40\t45\t50\t\n",
      "\n",
      "6\t12\t18\t24\t30\t36\t42\t48\t54\t60\t\n",
      "\n",
      "7\t14\t21\t28\t35\t42\t49\t56\t63\t70\t\n",
      "\n",
      "8\t16\t24\t32\t40\t48\t56\t64\t72\t80\t\n",
      "\n",
      "9\t18\t27\t36\t45\t54\t63\t72\t81\t90\t\n",
      "\n",
      "10\t20\t30\t40\t50\t60\t70\t80\t90\t100\t\n",
      "\n"
     ]
    }
   ],
   "source": [
    "for row in range(1,11):\n",
    "    for col in range(1,11):\n",
    "        print(row*col, end=\"\\t\")\n",
    "    print(\"\\n\")"
   ]
  },
  {
   "cell_type": "code",
   "execution_count": null,
   "id": "f55f7c8a",
   "metadata": {},
   "outputs": [],
   "source": []
  }
 ],
 "metadata": {
  "kernelspec": {
   "display_name": "Python 3 (ipykernel)",
   "language": "python",
   "name": "python3"
  },
  "language_info": {
   "codemirror_mode": {
    "name": "ipython",
    "version": 3
   },
   "file_extension": ".py",
   "mimetype": "text/x-python",
   "name": "python",
   "nbconvert_exporter": "python",
   "pygments_lexer": "ipython3",
   "version": "3.11.5"
  },
  "toc": {
   "base_numbering": 1,
   "nav_menu": {},
   "number_sections": true,
   "sideBar": true,
   "skip_h1_title": false,
   "title_cell": "Table of Contents",
   "title_sidebar": "Contents",
   "toc_cell": false,
   "toc_position": {},
   "toc_section_display": true,
   "toc_window_display": false
  },
  "varInspector": {
   "cols": {
    "lenName": 16,
    "lenType": 16,
    "lenVar": 40
   },
   "kernels_config": {
    "python": {
     "delete_cmd_postfix": "",
     "delete_cmd_prefix": "del ",
     "library": "var_list.py",
     "varRefreshCmd": "print(var_dic_list())"
    },
    "r": {
     "delete_cmd_postfix": ") ",
     "delete_cmd_prefix": "rm(",
     "library": "var_list.r",
     "varRefreshCmd": "cat(var_dic_list()) "
    }
   },
   "types_to_exclude": [
    "module",
    "function",
    "builtin_function_or_method",
    "instance",
    "_Feature"
   ],
   "window_display": false
  }
 },
 "nbformat": 4,
 "nbformat_minor": 5
}
