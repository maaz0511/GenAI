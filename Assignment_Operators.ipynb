{
 "cells": [
  {
   "cell_type": "markdown",
   "id": "dcef605e-253f-4e44-9529-885fd479df27",
   "metadata": {},
   "source": [
    "# 1. Calculate the sum, differences, product, quotient of 2 numbers. "
   ]
  },
  {
   "cell_type": "code",
   "execution_count": 1,
   "id": "777cd79e-476c-4416-9ef2-dd00c0a6116e",
   "metadata": {},
   "outputs": [
    {
     "name": "stdout",
     "output_type": "stream",
     "text": [
      "Sum:  30\n",
      "Difference:  10\n",
      "Product:  200\n",
      "Quotient:  2.0\n"
     ]
    }
   ],
   "source": [
    "num1 = 20                    # number 1\n",
    "num2 = 10                    # number 2\n",
    "\n",
    "sums = num1 + num2           # addition / sum\n",
    "difference = num1 - num2     # differences/ minus\n",
    "product = num1 * num2        # product / multiplication\n",
    "quotient = num1 / num2       # quotient / division\n",
    "\n",
    "print(\"Sum: \", sums)\n",
    "print(\"Difference: \", difference)\n",
    "print(\"Product: \", product)\n",
    "print(\"Quotient: \", quotient)"
   ]
  },
  {
   "cell_type": "markdown",
   "id": "48d4ef82-62f1-400f-aa24-7b28300809f9",
   "metadata": {},
   "source": [
    "# 2. Perform various assignment operator on a variable.\n",
    "\n",
    "- Assignment operators are used to assign values in a variable.\n",
    "- Types of Assignment Operator:- \n",
    "- - =\n",
    "- - +=\n",
    "- - -=\n",
    "- - *=\n",
    "- - /=\n",
    "- - **=\n",
    "- - //="
   ]
  },
  {
   "cell_type": "code",
   "execution_count": 2,
   "id": "d27bb005-6d79-4130-9881-f4f9b26e3786",
   "metadata": {},
   "outputs": [
    {
     "name": "stdout",
     "output_type": "stream",
     "text": [
      "= Assignment Operator \n",
      "\n",
      "a = 10 ->  10\n",
      "b = 15.5 ->  15.55\n",
      "c = PW Skills ->  PW Skills\n"
     ]
    }
   ],
   "source": [
    "# = Assignment Operator\n",
    "\n",
    "print(\"= Assignment Operator \\n\")\n",
    "a = 10\n",
    "print(\"a = 10 -> \",a)\n",
    "\n",
    "b = 15.55\n",
    "print(\"b = 15.5 -> \",b)\n",
    "\n",
    "c = \"PW Skills\"\n",
    "print(\"c = PW Skills -> \",c)"
   ]
  },
  {
   "cell_type": "code",
   "execution_count": 3,
   "id": "3ab0f45b-7574-45de-a50b-1fd92e0cde28",
   "metadata": {},
   "outputs": [
    {
     "name": "stdout",
     "output_type": "stream",
     "text": [
      "\n",
      "+= Assignment Operator \n",
      "\n",
      "a =  10\n",
      "a += 10 ->  20\n",
      "\n",
      "b =  PW\n",
      "b += Skills ->  PW Skills\n"
     ]
    }
   ],
   "source": [
    "# += Assignment Operator\n",
    "\n",
    "print (\"\\n+= Assignment Operator \\n\")\n",
    "\n",
    "a = 10\n",
    "print(\"a = \",a)\n",
    "\n",
    "a += 10\n",
    "print(\"a += 10 -> \",a)\n",
    "\n",
    "\n",
    "print()\n",
    "\n",
    "\n",
    "b = \"PW\"\n",
    "print(\"b = \",b)\n",
    "\n",
    "b += \" Skills\"\n",
    "print(\"b += Skills -> \",b)"
   ]
  },
  {
   "cell_type": "code",
   "execution_count": 4,
   "id": "0b3cdd15-5b3d-4f61-a5d0-41e835e50aa4",
   "metadata": {},
   "outputs": [
    {
     "name": "stdout",
     "output_type": "stream",
     "text": [
      "\n",
      "-= Assignment Operator \n",
      "\n",
      "a =  10\n",
      "a -= 5 ->  5\n"
     ]
    }
   ],
   "source": [
    "# -= Assignment Operator\n",
    "\n",
    "print (\"\\n-= Assignment Operator \\n\")\n",
    "\n",
    "a = 10\n",
    "print(\"a = \",a)\n",
    "\n",
    "a -= 5\n",
    "print(\"a -= 5 -> \",a)"
   ]
  },
  {
   "cell_type": "code",
   "execution_count": 5,
   "id": "3b9cbb69-1c50-401f-a9f3-fd747bc68163",
   "metadata": {},
   "outputs": [
    {
     "name": "stdout",
     "output_type": "stream",
     "text": [
      "\n",
      "*= Assignment Operator \n",
      "\n",
      "a =  10\n",
      "a *= 5 ->  50\n"
     ]
    }
   ],
   "source": [
    "# *= Assignment Operator\n",
    "\n",
    "print (\"\\n*= Assignment Operator \\n\")\n",
    "\n",
    "a = 10\n",
    "print(\"a = \",a)\n",
    "\n",
    "a *= 5\n",
    "print(\"a *= 5 -> \",a)"
   ]
  },
  {
   "cell_type": "code",
   "execution_count": 6,
   "id": "cc4f02e7-1c3f-4fae-bbf6-e049e4770643",
   "metadata": {},
   "outputs": [
    {
     "name": "stdout",
     "output_type": "stream",
     "text": [
      "\n",
      "/= Assignment Operator \n",
      "\n",
      "a =  10\n",
      "a /= 5 ->  2.0\n"
     ]
    }
   ],
   "source": [
    "# -= Assignment Operator\n",
    "\n",
    "print (\"\\n/= Assignment Operator \\n\")\n",
    "\n",
    "a = 10\n",
    "print(\"a = \",a)\n",
    "\n",
    "a /= 5\n",
    "print(\"a /= 5 -> \",a)"
   ]
  },
  {
   "cell_type": "markdown",
   "id": "96c03ca8-7f1b-453e-a89b-7c2e40ed5792",
   "metadata": {},
   "source": [
    "# 3. Compare 2 numbers and print their results.\n",
    "- Comparison operator are used to compare two values or variables.\n",
    "- Types of Comparison Operators:- \n",
    "- equal to -> \"==\"\n",
    "- not equal to -> \"!=\"\n",
    "- greater than -> \">\"\n",
    "- greater than equal to -> \">=\"\n",
    "- less than -> \"<\"\n",
    "- less than or equal to -> \"<=\""
   ]
  },
  {
   "cell_type": "code",
   "execution_count": 92,
   "id": "71a820f8-0eee-48b0-9844-e2e130066b24",
   "metadata": {},
   "outputs": [
    {
     "name": "stdout",
     "output_type": "stream",
     "text": [
      "n1 =  10\n",
      "n2 =  5\n",
      "\n",
      "n1 is greater than n2 \n",
      "\n",
      "n1 == n2 ---> False\n",
      "n1 != n2 ---> True\n",
      "n1 > n2 ---> True\n",
      "n1 >= n2 ---> True\n",
      "n1 < n2 ---> False\n",
      "n1 <= n2 ---> False\n"
     ]
    }
   ],
   "source": [
    "n1 = 10               # number 1\n",
    "n2 = 5                # number 2\n",
    "\n",
    "print(\"n1 = \",n1)\n",
    "print(\"n2 = \", n2)\n",
    "print()\n",
    "\n",
    "if (n1 > n2):\n",
    "    print(\"n1 is greater than n2 \\n\")\n",
    "elif (n1 == n2):\n",
    "    print(\"n1 is equal to n2 \\n\")\n",
    "else:\n",
    "    print(\"n1 is smaller than n2 \\n\")\n",
    "\n",
    "print(\"n1 == n2 --->\", n1==n2)\n",
    "print(\"n1 != n2 --->\", n1!=n2)\n",
    "print(\"n1 > n2 --->\", n1>n2)\n",
    "print(\"n1 >= n2 --->\", n1>=n2)\n",
    "print(\"n1 < n2 --->\", n1<n2)\n",
    "print(\"n1 <= n2 --->\", n1<=n2)"
   ]
  },
  {
   "cell_type": "markdown",
   "id": "3a72c583-8a23-4443-8b45-ea4300938804",
   "metadata": {},
   "source": [
    "# 4. Check conditions using Logical operators.\n",
    "- Logical Operators are \"and\", \"or\", \"not\""
   ]
  },
  {
   "cell_type": "code",
   "execution_count": 93,
   "id": "46bf615c-644a-43b4-88ef-20072fa3f243",
   "metadata": {},
   "outputs": [
    {
     "name": "stdout",
     "output_type": "stream",
     "text": [
      "a and b =  10\n",
      "True\n",
      "\n",
      "5 and 10 both are present in list.\n",
      "\n",
      "a==10 or b==5:  True\n",
      "a==77 or b==10:  True\n",
      "a==1 or b==5:  False\n"
     ]
    }
   ],
   "source": [
    "a = 10\n",
    "b = 10\n",
    "\n",
    "\n",
    "# logical \"and\" operator\n",
    "if (a==10) and (b==10):\n",
    "    print(\"a and b = \", a)\n",
    "    \n",
    "print(a==10 and b==10)\n",
    "\n",
    "list_data = [1,3,4,5,7,10]\n",
    "if (5 in list_data and 10 in list_data):\n",
    "    print(\"\\n5 and 10 both are present in list.\\n\")\n",
    "\n",
    "# Logical \"or\" operator\n",
    "print(\"a==10 or b==5: \", a==10 or b==5)\n",
    "print(\"a==77 or b==10: \",a==77 or b==10)\n",
    "print(\"a==1 or b==5: \", a==1 or b==5)"
   ]
  },
  {
   "cell_type": "markdown",
   "id": "7587ad96-098e-40e6-b3ba-690f13b5130f",
   "metadata": {
    "tags": []
   },
   "source": [
    "# 5. Check the identity of variables."
   ]
  },
  {
   "cell_type": "code",
   "execution_count": 94,
   "id": "3b68defd-fbc6-4ee7-9c13-b4b6a9ceb6f7",
   "metadata": {},
   "outputs": [
    {
     "name": "stdout",
     "output_type": "stream",
     "text": [
      "a =  10\n",
      "b =  10\n",
      "a is b:  True\n",
      "\n",
      "a =  Pw\n",
      "b =  Pw\n",
      "a is b:  True\n",
      "\n",
      "l1 =  [1, 2, 3, 4, 5]\n",
      "l2 =  [1, 2, 3, 4, 5]\n",
      "l1 is l2  True\n",
      "\n",
      "l1 =  [1, 2, 3, 4, 5]\n",
      "l2 =  [1, 2, 3, 4, 5]\n",
      "l1 is l2  False\n"
     ]
    }
   ],
   "source": [
    "# integers\n",
    "a = 10\n",
    "b = 10\n",
    "print(\"a = \", a)\n",
    "print(\"b = \", b)\n",
    "print(\"a is b: \",a is b)\n",
    "\n",
    "# strings\n",
    "a = \"Pw\"\n",
    "b = a\n",
    "print(\"\\na = \", a)\n",
    "print(\"b = \", b)\n",
    "print(\"a is b: \",a is b)\n",
    "\n",
    "# list\n",
    "\n",
    "# l1 and l2 refer to the same list object in memory. \n",
    "#So, any changes made to l1 will be reflected in l2 and vice versa.\n",
    "l1 = [1,2,3,4,5]               \n",
    "l2 = l1\n",
    "print(\"\\nl1 = \",l1)\n",
    "print(\"l2 = \",l2)\n",
    "print(\"l1 is l2 \",l1 is l2)\n",
    "\n",
    "\n",
    "# creating two separate lists l1 and l2 with the same elements [1, 2, 3, 4, 5]. \n",
    "# However, these are two distinct list objects occupying different memory locations.\n",
    "l1 = [1,2,3,4,5]\n",
    "l2 = [1,2,3,4,5]\n",
    "print(\"\\nl1 = \",l1)\n",
    "print(\"l2 = \",l2)\n",
    "print(\"l1 is l2 \",l1 is l2)"
   ]
  },
  {
   "cell_type": "markdown",
   "id": "76a42b49-16a5-466c-b3fa-deb85435a4c9",
   "metadata": {},
   "source": [
    "# 6. Perform bitwise operations on any two integers."
   ]
  },
  {
   "cell_type": "code",
   "execution_count": 67,
   "id": "31152723-9310-445d-bdd4-45cdac7a1e83",
   "metadata": {},
   "outputs": [
    {
     "name": "stdout",
     "output_type": "stream",
     "text": [
      "a =  100\n",
      "Binary of a is:  0b1100100\n",
      "\n",
      "b =  5\n",
      "Binary of  is:  0b101\n",
      "\n",
      "1100100\n",
      "0000101\n",
      "\n",
      "Bitwise &: 0000100 =  4\n",
      "Bitwise |: 1100101 =  101\n",
      "Bitwise XOR: 1100001 =  97\n",
      "\n",
      "For Confirmation - \n",
      "Binary of 4 =  0b100\n",
      "Binary of 101 =  0b1100101\n",
      "Binary of 97 =  0b1100001\n"
     ]
    }
   ],
   "source": [
    "a = 100\n",
    "b = 5\n",
    "\n",
    "print(\"a = \", a)\n",
    "print(\"Binary of a is: \",bin(a))\n",
    "\n",
    "print(\"\\nb = \", b)\n",
    "print(\"Binary of  is: \",bin(b))\n",
    "\n",
    "print()\n",
    "print(\"1100100\")\n",
    "print(\"0000101\")\n",
    "\n",
    "print(\"\\nBitwise &: 0000100 = \", a & b)\n",
    "print(\"Bitwise |: 1100101 = \", a | b)\n",
    "print(\"Bitwise XOR: 1100001 = \", a ^ b)\n",
    "\n",
    "print(\"\\nFor Confirmation - \")\n",
    "print(\"Binary of 4 = \", bin(4))\n",
    "print(\"Binary of 101 = \", bin(101))\n",
    "print(\"Binary of 97 = \", bin(97))"
   ]
  },
  {
   "cell_type": "markdown",
   "id": "54e71b05-6b9a-48e6-9029-b1f99f3748cf",
   "metadata": {},
   "source": [
    "# 7. Use unary operators to change the sign of a number.\n"
   ]
  },
  {
   "cell_type": "code",
   "execution_count": 75,
   "id": "f3d4ecaa-d604-4949-af04-d73ecfa8118d",
   "metadata": {},
   "outputs": [
    {
     "name": "stdout",
     "output_type": "stream",
     "text": [
      "Original Number:  10\n",
      "Changed Number:  -10\n",
      "\n",
      "Original Number:  -100\n",
      "Changed Number:  100\n",
      "\n",
      "Original Number:  500\n",
      "Changed Number:  500\n"
     ]
    }
   ],
   "source": [
    "# Example 1\n",
    "\n",
    "a = 10\n",
    "b = -a\n",
    "print(\"Original Number: \", a)\n",
    "print(\"Changed Number: \", b)\n",
    "\n",
    "# Example 2\n",
    "\n",
    "a = -100\n",
    "b = -a\n",
    "print(\"\\nOriginal Number: \", a)\n",
    "print(\"Changed Number: \", b)\n",
    "\n",
    "# Example 3\n",
    "\n",
    "a = 500\n",
    "b = --a\n",
    "print(\"\\nOriginal Number: \", a)\n",
    "print(\"Changed Number: \", b)"
   ]
  },
  {
   "cell_type": "markdown",
   "id": "cd316412-a4dc-4201-94a9-3d653ccd37f2",
   "metadata": {},
   "source": [
    "# 8. Use the ternary operator to assign values based on conditions.\n",
    "Syntax of ternary operator:-\n",
    "- true_value ... if condition ... else false_value "
   ]
  },
  {
   "cell_type": "code",
   "execution_count": 90,
   "id": "30be103b-44ff-4914-ad00-17a690abbfeb",
   "metadata": {},
   "outputs": [
    {
     "name": "stdout",
     "output_type": "stream",
     "text": [
      "a =  5\n",
      "a is 5\n",
      "\n",
      "a =  15\n",
      "b =  20\n",
      "b is greater than a\n"
     ]
    }
   ],
   "source": [
    "# Example 1\n",
    "a = 5\n",
    "print(\"a = \", a)\n",
    "result = print(\"a is 5\") if (a == 5)  else print(\"a is not 5\")\n",
    "\n",
    "# Example 2\n",
    "a = 15\n",
    "b = 20\n",
    "print(\"\\na = \", a)\n",
    "print(\"b = \", b)\n",
    "result = print(\"a is greater than b\") if a>b else print(\"b is greater than a\")\n",
    "\n"
   ]
  }
 ],
 "metadata": {
  "kernelspec": {
   "display_name": "Python 3 (ipykernel)",
   "language": "python",
   "name": "python3"
  },
  "language_info": {
   "codemirror_mode": {
    "name": "ipython",
    "version": 3
   },
   "file_extension": ".py",
   "mimetype": "text/x-python",
   "name": "python",
   "nbconvert_exporter": "python",
   "pygments_lexer": "ipython3",
   "version": "3.10.8"
  }
 },
 "nbformat": 4,
 "nbformat_minor": 5
}
